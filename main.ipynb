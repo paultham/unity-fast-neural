{
 "cells": [
  {
   "cell_type": "code",
   "execution_count": 1,
   "metadata": {},
   "outputs": [
    {
     "name": "stderr",
     "output_type": "stream",
     "text": [
      "Using TensorFlow backend.\n"
     ]
    }
   ],
   "source": [
    "from train import *\n",
    "from params import TrainingParams\n",
    "import matplotlib.pyplot as plt\n",
    "from IPython import display\n",
    "%matplotlib inline\n",
    "\n",
    "from params import TransferParams\n",
    "from pipeline import *\n",
    "import numpy as np"
   ]
  },
  {
   "cell_type": "code",
   "execution_count": null,
   "metadata": {
    "collapsed": true
   },
   "outputs": [],
   "source": [
    "params = TrainingParams()\n",
    "# params.train_path='/home/ubuntu/work/data/unlabeled2017/*.jpg'\n",
    "params.train_path='data/train/val2017/*.jpg'\n",
    "params.style_path='data/starry_night.jpg'\n",
    "params.batch_size = 1\n",
    "params.num_epoch = 2\n",
    "params.learn_rate = 0.001\n",
    "params.total_train_sample = 4"
   ]
  },
  {
   "cell_type": "code",
   "execution_count": null,
   "metadata": {
    "collapsed": true
   },
   "outputs": [],
   "source": [
    "def report_loss(batch, epoch, total_cost):\n",
    "    cost_history.append(total_cost)\n",
    "    plt.plot(cost_history)\n",
    "    display.display(plt.gcf())\n",
    "    display.clear_output(wait=True)"
   ]
  },
  {
   "cell_type": "code",
   "execution_count": null,
   "metadata": {},
   "outputs": [],
   "source": [
    "cost_history = []\n",
    "train(params, report_fn=report_loss, restore_epoch=None)"
   ]
  },
  {
   "cell_type": "code",
   "execution_count": null,
   "metadata": {
    "collapsed": true
   },
   "outputs": [],
   "source": [
    "def transfer(path, out_path=None):\n",
    "    # init    \n",
    "    tf.reset_default_graph()\n",
    "    sess = tf.InteractiveSession()\n",
    "    \n",
    "    input_image = process_img(path).eval()\n",
    "    input_shape = [1] + list(input_image.shape)\n",
    "    \n",
    "    # make the model\n",
    "    input_placeholder = tf.placeholder(dtype=tf.float32, shape=input_shape, name='input_images')\n",
    "    gen = SpriteGenerator(input_placeholder, 'SpriteGenerator')\n",
    "    \n",
    "    # restore\n",
    "    params = TransferParams()\n",
    "    saver = tf.train.Saver()\n",
    "    saver.restore(sess, params.save_path)\n",
    "    \n",
    "    # generate and write out\n",
    "    output = sess.run(gen.output, feed_dict={input_placeholder:np.stack([input_image])})\n",
    "    if out_path is not None:\n",
    "        output = tf.image.encode_jpeg(output[0])  \n",
    "        write = tf.write_file(out_path, output)\n",
    "        sess.run(write)\n",
    "        print('Generate Done.')\n",
    "    else:\n",
    "        plt.imshow(output[0]/255.)    "
   ]
  },
  {
   "cell_type": "code",
   "execution_count": null,
   "metadata": {
    "collapsed": true
   },
   "outputs": [],
   "source": [
    "transfer('data/golden_gate.jpg')"
   ]
  }
 ],
 "metadata": {
  "kernelspec": {
   "display_name": "Python 2",
   "language": "python",
   "name": "python2"
  },
  "language_info": {
   "codemirror_mode": {
    "name": "ipython",
    "version": 2
   },
   "file_extension": ".py",
   "mimetype": "text/x-python",
   "name": "python",
   "nbconvert_exporter": "python",
   "pygments_lexer": "ipython2",
   "version": "2.7.10"
  }
 },
 "nbformat": 4,
 "nbformat_minor": 2
}
