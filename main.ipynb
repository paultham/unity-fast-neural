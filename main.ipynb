{
 "cells": [
  {
   "cell_type": "code",
   "execution_count": 2,
   "metadata": {},
   "outputs": [
    {
     "name": "stderr",
     "output_type": "stream",
     "text": [
      "Using TensorFlow backend.\n"
     ]
    }
   ],
   "source": [
    "import sys\n",
    "import time\n",
    "import datetime\n",
    "from train import *\n",
    "from params import TrainingParams\n",
    "import matplotlib.pyplot as plt\n",
    "from IPython import display\n",
    "%matplotlib inline\n",
    "\n",
    "from params import TransferParams\n",
    "from pipeline import *\n",
    "import numpy as np"
   ]
  },
  {
   "cell_type": "code",
   "execution_count": 3,
   "metadata": {},
   "outputs": [],
   "source": [
    "params = TrainingParams()\n",
    "# params.train_path='/home/ubuntu/work/data/unlabeled2017/*.jpg'\n",
    "params.train_path='data/train/val2017/*.jpg'\n",
    "params.style_path='data/starry_night.jpg'\n",
    "params.batch_size = 1\n",
    "params.num_epoch = 1\n",
    "params.learn_rate = 0.0001\n",
    "params.total_train_sample = 128\n",
    "params.style_weight = 2.5\n",
    "params.tv_weight=0.0"
   ]
  },
  {
   "cell_type": "code",
   "execution_count": 4,
   "metadata": {
    "collapsed": true
   },
   "outputs": [],
   "source": [
    "def time_remaining(params, batch, epoch):\n",
    "    time_remaining = 0\n",
    "    if params.last_time is None:\n",
    "        params.last_time = time.perf_counter()\n",
    "    else:\n",
    "        total_epoch = params.num_epoch\n",
    "        if params.restore_epoch is not None:\n",
    "            total_epoch += params.restore_epoch + 1\n",
    "        cur_time = time.perf_counter()\n",
    "        elapsed = cur_time - params.last_time\n",
    "        params.last_time = cur_time\n",
    "        batches_per_epoch = (params.total_train_sample/params.batch_size)\n",
    "        batch_remaining = batches_per_epoch*(total_epoch-epoch) - batch\n",
    "        time_remaining = int(batch_remaining*elapsed)\n",
    "    return time_remaining"
   ]
  },
  {
   "cell_type": "code",
   "execution_count": 5,
   "metadata": {
    "collapsed": true
   },
   "outputs": [],
   "source": [
    "def keep_last(data, entry):\n",
    "#     if len(data) > 20:\n",
    "#         data = data[1:]\n",
    "    data.append(entry)\n",
    "    return data"
   ]
  },
  {
   "cell_type": "code",
   "execution_count": 9,
   "metadata": {
    "collapsed": true
   },
   "outputs": [],
   "source": [
    "def report_loss(params, batch, epoch, total_cost, content_cost, style_cost):\n",
    "    params.cost_history = keep_last(params.cost_history, total_cost)\n",
    "    params.style_history = keep_last(params.style_history, style_cost)\n",
    "    params.content_history =keep_last(params.content_history, content_cost)\n",
    "#     t = time_remaining(params, batch, epoch)\n",
    "#     plt.title(\"Batch %i of epoch %i. Total Loss: %s. ETA %s \" % (batch, epoch, str(total_cost), str(datetime.timedelta(seconds=t))))\n",
    "    plt.plot(params.cost_history, 'r', params.style_history, 'b', params.content_history, 'g')\n",
    "    display.display(plt.gcf())\n",
    "    display.clear_output(wait=True)"
   ]
  },
  {
   "cell_type": "code",
   "execution_count": 7,
   "metadata": {
    "collapsed": true
   },
   "outputs": [],
   "source": [
    "def report_loss_simple(params, batch, epoch, total_cost, content_cost, style_cost):\n",
    "    t = time_remaining(params, batch, epoch)\n",
    "    sys.stdout.write(\"\\r\")\n",
    "    sys.stdout.write(\"Batch %i of epoch %i. Total Loss: %s. ETA %s \" % (batch, epoch, str(total_cost), str(datetime.timedelta(seconds=t))))\n",
    "    sys.stdout.flush()"
   ]
  },
  {
   "cell_type": "code",
   "execution_count": null,
   "metadata": {},
   "outputs": [
    {
     "data": {
      "image/png": "[encoded data removed]",
      "text/plain": [
       "<matplotlib.figure.Figure at 0x1656d2110>"
      ]
     },
     "metadata": {},
     "output_type": "display_data"
    }
   ],
   "source": [
    "params.cost_history = []\n",
    "params.style_history = []\n",
    "params.content_history = []\n",
    "params.last_time = None\n",
    "params.restore_epoch = None\n",
    "train(params, report_fn=report_loss, restore_epoch=params.restore_epoch)"
   ]
  },
  {
   "cell_type": "code",
   "execution_count": null,
   "metadata": {
    "collapsed": true
   },
   "outputs": [],
   "source": [
    "def transfer(path, out_path=None):\n",
    "    # init    \n",
    "    tf.reset_default_graph()\n",
    "    sess = tf.InteractiveSession()\n",
    "    \n",
    "    input_image = process_img(path).eval()\n",
    "    input_shape = [1] + list(input_image.shape)\n",
    "    \n",
    "    # make the model\n",
    "    input_placeholder = tf.placeholder(dtype=tf.float32, shape=input_shape, name='input_images')\n",
    "    gen = SpriteGenerator(input_placeholder, 'SpriteGenerator')\n",
    "    \n",
    "    # restore\n",
    "    saver = tf.train.Saver()\n",
    "    saver.restore(sess, 'data/model/style.ckpt')\n",
    "    \n",
    "    # generate and write out\n",
    "    output = sess.run(gen.output, feed_dict={input_placeholder:np.stack([input_image])})\n",
    "    plt.imshow(output[0]/255.)  \n",
    "    \n",
    "    if out_path is not None:\n",
    "        output = tf.image.encode_jpeg(output[0])  \n",
    "        write = tf.write_file(out_path, output)\n",
    "        sess.run(write)\n",
    "        print('Generate Done.')"
   ]
  },
  {
   "cell_type": "code",
   "execution_count": null,
   "metadata": {
    "collapsed": true
   },
   "outputs": [],
   "source": [
    "# transfer('data/test.jpg', 'data/generated.jpg')"
   ]
  },
  {
   "cell_type": "code",
   "execution_count": null,
   "metadata": {
    "collapsed": true
   },
   "outputs": [],
   "source": [
    "def do():\n",
    "    tf.reset_default_graph()\n",
    "    sess = tf.InteractiveSession()\n",
    "    \n",
    "    input_shape = [2,256,256,3]\n",
    "    input_placeholder = tf.placeholder(dtype=tf.float32, shape=input_shape, name='input_images')\n",
    "    input_style = np.zeros([2,256,256,3])\n",
    "    params = TrainingParams()\n",
    "\n",
    "    gen = SpriteGenerator(input_placeholder, 'SpriteGenerator')\n",
    "    vggTrain = VGG16(gen.output, 'train_vgg')\n",
    "    vggRef = VGG16(input_placeholder, 'train_ref')\n",
    "\n",
    "    J = total_loss(sess, input_placeholder, gen, vggTrain, vggRef, input_style, params)\n",
    "    \n",
    "    for t in tf.trainable_variables():\n",
    "        print(t)"
   ]
  }
 ],
 "metadata": {
  "kernelspec": {
   "display_name": "Python 2",
   "language": "python",
   "name": "python2"
  },
  "language_info": {
   "codemirror_mode": {
    "name": "ipython",
    "version": 2
   },
   "file_extension": ".py",
   "mimetype": "text/x-python",
   "name": "python",
   "nbconvert_exporter": "python",
   "pygments_lexer": "ipython2",
   "version": "2.7.10"
  }
 },
 "nbformat": 4,
 "nbformat_minor": 2
}
