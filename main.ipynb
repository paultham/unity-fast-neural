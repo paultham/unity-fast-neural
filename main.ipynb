{
 "cells": [
  {
   "cell_type": "code",
   "execution_count": null,
   "metadata": {},
   "outputs": [],
   "source": [
    "import sys\n",
    "import time\n",
    "import datetime\n",
    "from train import *\n",
    "from params import TrainingParams\n",
    "\n",
    "def time_remaining(params, batch):\n",
    "    time_remaining = 0\n",
    "    total_batches = (params.total_train_sample/params.batch_size)*params.num_epoch\n",
    "    \n",
    "    if params.initial_batch is None:\n",
    "        params.initial_batch = batch\n",
    "        params.last_time = time.perf_counter()\n",
    "    else:\n",
    "        cur_time = time.perf_counter()\n",
    "        elapsed = cur_time - params.last_time\n",
    "        params.last_time = cur_time\n",
    "        batch_remaining = total_batches - (batch-params.initial_batch)\n",
    "        time_remaining = int(batch_remaining*elapsed)\n",
    "    return time_remaining, (total_batches+params.initial_batch-1)\n",
    "\n",
    "def report_loss_simple(params, batch, total_cost, content_cost, style_cost):\n",
    "    t, tb = time_remaining(params, batch)\n",
    "    sys.stdout.write(\"\\r\")\n",
    "    sys.stdout.write(\"Batch %i/%i. Total Loss: %s. ETA %s         \" % (batch, tb, str(total_cost), str(datetime.timedelta(seconds=t))))\n",
    "    sys.stdout.flush()"
   ]
  },
  {
   "cell_type": "code",
   "execution_count": null,
   "metadata": {},
   "outputs": [],
   "source": [
    "params = TrainingParams()\n",
    "# aws\n",
    "# params.train_path='/home/ubuntu/work/data/unlabeled2017/*.jpg'\n",
    "# mbp\n",
    "# params.train_path='/Users/paul/Work/ai/images/val2017/*.jpg'\n",
    "# azure\n",
    "# params.train_path = '/home/paul/src/images/train2017/*.jpg'\n",
    "# tf\n",
    "params.train_path = ['/Users/paul/Work/ai/images/tf/%i.tfr' % (i) for i in range(2)]\n",
    "params.style_path='data/mosaic.jpg'\n",
    "params.batch_size = 4\n",
    "params.num_epoch = 1\n",
    "params.learn_rate = 0.0001\n",
    "params.total_train_sample = 40\n",
    "params.style_weight = 5.0\n",
    "params.content_weight = 1.0\n",
    "params.tv_weight=0.0\n",
    "params.save_path='summaries'\n",
    "params.summary_step=5"
   ]
  },
  {
   "cell_type": "code",
   "execution_count": null,
   "metadata": {},
   "outputs": [],
   "source": [
    "params.last_time = None\n",
    "params.initial_batch = None\n",
    "train(params, report_fn=report_loss_simple, start_new=True)"
   ]
  },
  {
   "cell_type": "code",
   "execution_count": null,
   "metadata": {},
   "outputs": [],
   "source": [
    "# needed for style an image\n",
    "import matplotlib.pyplot as plt\n",
    "from IPython import display\n",
    "%matplotlib inline\n",
    "from params import TransferParams\n",
    "from pipeline import *\n",
    "import numpy as np\n",
    "\n",
    "def transfer(path, out_path=None):\n",
    "    # init    \n",
    "    tf.reset_default_graph()\n",
    "    sess = tf.InteractiveSession()\n",
    "    \n",
    "    input_image = process_img(path, crop=False).eval()\n",
    "    input_shape = [1] + list(input_image.shape)\n",
    "    \n",
    "    # make the model\n",
    "    input_placeholder = tf.placeholder(dtype=tf.float32, shape=input_shape, name='input_images')\n",
    "    gen = SpriteGenerator(input_placeholder, 'SpriteGenerator')\n",
    "    \n",
    "    # restore\n",
    "    saver = tf.train.Saver()\n",
    "    saver.restore(sess, 'data/model/style.ckpt')\n",
    "    \n",
    "    # generate and write out\n",
    "    output = sess.run(gen.output, feed_dict={input_placeholder:np.stack([input_image])})\n",
    "    plt.imshow(output[0]/255.)  \n",
    "    \n",
    "    if out_path is not None:\n",
    "        output = tf.image.encode_jpeg(output[0])  \n",
    "        write = tf.write_file(out_path, output)\n",
    "        sess.run(write)\n",
    "        print('Generate Done.')"
   ]
  },
  {
   "cell_type": "code",
   "execution_count": null,
   "metadata": {},
   "outputs": [],
   "source": [
    "# transfer('data/test.jpg', 'data/generated.jpg')"
   ]
  }
 ],
 "metadata": {
  "kernelspec": {
   "display_name": "Python 3",
   "language": "python",
   "name": "python3"
  },
  "language_info": {
   "codemirror_mode": {
    "name": "ipython",
    "version": 3
   },
   "file_extension": ".py",
   "mimetype": "text/x-python",
   "name": "python",
   "nbconvert_exporter": "python",
   "pygments_lexer": "ipython3",
   "version": "3.6.4"
  }
 },
 "nbformat": 4,
 "nbformat_minor": 2
}
